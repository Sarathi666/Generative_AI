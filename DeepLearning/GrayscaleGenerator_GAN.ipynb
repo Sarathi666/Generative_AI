{
  "nbformat": 4,
  "nbformat_minor": 0,
  "metadata": {
    "colab": {
      "provenance": [],
      "authorship_tag": "ABX9TyOpD0OvkRtEWrkmjuMca9D8",
      "include_colab_link": true
    },
    "kernelspec": {
      "name": "python3",
      "display_name": "Python 3"
    },
    "language_info": {
      "name": "python"
    }
  },
  "cells": [
    {
      "cell_type": "markdown",
      "metadata": {
        "id": "view-in-github",
        "colab_type": "text"
      },
      "source": [
        "<a href=\"https://colab.research.google.com/github/Sarathi666/Generative_AI/blob/main/GrayscaleGenerator_GAN.ipynb\" target=\"_parent\"><img src=\"https://colab.research.google.com/assets/colab-badge.svg\" alt=\"Open In Colab\"/></a>"
      ]
    },
    {
      "cell_type": "code",
      "execution_count": null,
      "metadata": {
        "colab": {
          "base_uri": "https://localhost:8080/",
          "height": 648
        },
        "id": "zq4cXGlKHztQ",
        "outputId": "f959f81f-8dd4-4e5f-ce20-c40a2045a78f"
      },
      "outputs": [
        {
          "output_type": "stream",
          "name": "stdout",
          "text": [
            "Running Gradio in a Colab notebook requires sharing enabled. Automatically setting `share=True` (you can turn this off by setting `share=False` in `launch()` explicitly).\n",
            "\n",
            "Colab notebook detected. This cell will run indefinitely so that you can see errors and logs. To turn off, set debug=False in launch().\n",
            "* Running on public URL: https://eca1d15a0081644472.gradio.live\n",
            "\n",
            "This share link expires in 72 hours. For free permanent hosting and GPU upgrades, run `gradio deploy` from the terminal in the working directory to deploy to Hugging Face Spaces (https://huggingface.co/spaces)\n"
          ]
        },
        {
          "output_type": "display_data",
          "data": {
            "text/plain": [
              "<IPython.core.display.HTML object>"
            ],
            "text/html": [
              "<div><iframe src=\"https://eca1d15a0081644472.gradio.live\" width=\"100%\" height=\"500\" allow=\"autoplay; camera; microphone; clipboard-read; clipboard-write;\" frameborder=\"0\" allowfullscreen></iframe></div>"
            ]
          },
          "metadata": {}
        }
      ],
      "source": [
        "# Step 1: Install dependencies\n",
        "!pip install gradio torch torchvision matplotlib --quiet\n",
        "\n",
        "# Step 2: Imports\n",
        "import torch\n",
        "import torch.nn as nn\n",
        "import numpy as np\n",
        "import matplotlib.pyplot as plt\n",
        "import gradio as gr\n",
        "\n",
        "# Step 3: Set constants\n",
        "latent_dim = 100\n",
        "img_size = 28\n",
        "\n",
        "# Step 4: Define the Generator network\n",
        "class Generator(nn.Module):\n",
        "    def __init__(self):\n",
        "        super(Generator, self).__init__()\n",
        "        self.model = nn.Sequential(\n",
        "            nn.Linear(latent_dim, 128),\n",
        "            nn.ReLU(True),\n",
        "            nn.Linear(128, 256),\n",
        "            nn.ReLU(True),\n",
        "            nn.Linear(256, img_size * img_size),\n",
        "            nn.Tanh()\n",
        "        )\n",
        "\n",
        "    def forward(self, z):\n",
        "        img = self.model(z)\n",
        "        img = img.view(-1, 1, img_size, img_size)\n",
        "        return img\n",
        "\n",
        "# Step 5: Initialize and \"fake-train\" the generator (just random weights for demo)\n",
        "generator = Generator()\n",
        "for param in generator.parameters():\n",
        "    nn.init.normal_(param, mean=0, std=0.02)\n",
        "\n",
        "# Step 6: Function to generate and return image\n",
        "def generate_image():\n",
        "    z = torch.randn(1, latent_dim)\n",
        "    with torch.no_grad():\n",
        "        generated_img = generator(z).squeeze().numpy()\n",
        "    generated_img = (generated_img + 1) / 2  # scale to [0, 1]\n",
        "\n",
        "    # Save and return image\n",
        "    plt.imshow(generated_img, cmap='gray')\n",
        "    plt.axis('off')\n",
        "    plt.tight_layout()\n",
        "    plt.savefig(\"generated_image.png\", bbox_inches='tight', pad_inches=0)\n",
        "    return \"generated_image.png\"\n",
        "\n",
        "# Step 7: Gradio interface\n",
        "gr.Interface(\n",
        "    fn=generate_image,\n",
        "    inputs=[],\n",
        "    outputs=gr.Image(type=\"filepath\"),\n",
        "    title=\"🧠 GAN Image Generator (Noise → Image)\",\n",
        "    description=\"Click to generate a synthetic image from random noise using a simple GAN generator.\"\n",
        ").launch(debug=True)\n"
      ]
    }
  ]
}
