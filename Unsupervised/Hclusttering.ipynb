{
  "nbformat": 4,
  "nbformat_minor": 0,
  "metadata": {
    "colab": {
      "provenance": [],
      "authorship_tag": "ABX9TyP+Bx1UMplzQxaRScF+z/T1",
      "include_colab_link": true
    },
    "kernelspec": {
      "name": "python3",
      "display_name": "Python 3"
    },
    "language_info": {
      "name": "python"
    }
  },
  "cells": [
    {
      "cell_type": "markdown",
      "metadata": {
        "id": "view-in-github",
        "colab_type": "text"
      },
      "source": [
        "<a href=\"https://colab.research.google.com/github/Sarathi666/Generative_AI/blob/main/Hclusttering.ipynb\" target=\"_parent\"><img src=\"https://colab.research.google.com/assets/colab-badge.svg\" alt=\"Open In Colab\"/></a>"
      ]
    },
    {
      "cell_type": "code",
      "execution_count": 7,
      "metadata": {
        "colab": {
          "base_uri": "https://localhost:8080/",
          "height": 645
        },
        "id": "C8LLS4LI3v8n",
        "outputId": "6e5fa057-1355-4d82-8659-5356a095cc1e"
      },
      "outputs": [
        {
          "output_type": "stream",
          "name": "stdout",
          "text": [
            "Running Gradio in a Colab notebook requires sharing enabled. Automatically setting `share=True` (you can turn this off by setting `share=False` in `launch()` explicitly).\n",
            "\n",
            "Colab notebook detected. To show errors in colab notebook, set debug=True in launch()\n",
            "* Running on public URL: https://4deb5acbfb545c70ba.gradio.live\n",
            "\n",
            "This share link expires in 72 hours. For free permanent hosting and GPU upgrades, run `gradio deploy` from the terminal in the working directory to deploy to Hugging Face Spaces (https://huggingface.co/spaces)\n"
          ]
        },
        {
          "output_type": "display_data",
          "data": {
            "text/plain": [
              "<IPython.core.display.HTML object>"
            ],
            "text/html": [
              "<div><iframe src=\"https://4deb5acbfb545c70ba.gradio.live\" width=\"100%\" height=\"500\" allow=\"autoplay; camera; microphone; clipboard-read; clipboard-write;\" frameborder=\"0\" allowfullscreen></iframe></div>"
            ]
          },
          "metadata": {}
        },
        {
          "output_type": "execute_result",
          "data": {
            "text/plain": []
          },
          "metadata": {},
          "execution_count": 7
        }
      ],
      "source": [
        "import pandas as pd\n",
        "import numpy as np\n",
        "import matplotlib.pyplot as plt\n",
        "from scipy.cluster.hierarchy import dendrogram, linkage, fcluster\n",
        "from sklearn.datasets import load_iris\n",
        "from sklearn.preprocessing import StandardScaler\n",
        "import gradio as gr\n",
        "\n",
        "# Function for Hierarchical Clustering\n",
        "def hierarchical_clustering(n_clusters, method, metric):\n",
        "    # Load inbuilt Iris dataset\n",
        "    iris = load_iris()\n",
        "    df = pd.DataFrame(iris.data, columns=iris.feature_names)\n",
        "\n",
        "    # Standardize the data\n",
        "    scaler = StandardScaler()\n",
        "    scaled_data = scaler.fit_transform(df)\n",
        "\n",
        "    # Apply Hierarchical clustering\n",
        "    Z = linkage(scaled_data, method=method, metric=metric)\n",
        "\n",
        "    # Generate dendrogram\n",
        "    fig, ax = plt.subplots(figsize=(12, 6))\n",
        "    dendrogram(Z, labels=iris.target, leaf_rotation=90, leaf_font_size=10)\n",
        "    plt.title(\"Hierarchical Clustering Dendrogram\")\n",
        "    plt.xlabel(\"Sample Index\")\n",
        "    plt.ylabel(\"Distance\")\n",
        "    plt.grid(True)\n",
        "\n",
        "    # Create clusters\n",
        "    clusters = fcluster(Z, n_clusters, criterion='maxclust')\n",
        "    df['Cluster'] = clusters\n",
        "\n",
        "    # Plot clusters\n",
        "    plt.figure(figsize=(12, 6))\n",
        "    plt.scatter(scaled_data[:, 0], scaled_data[:, 1], c=clusters, cmap='viridis', edgecolor='k', s=100)\n",
        "    plt.title('Clusters Visualization')\n",
        "    plt.xlabel('Feature 1')\n",
        "    plt.ylabel('Feature 2')\n",
        "    plt.grid(True)\n",
        "\n",
        "    return df.head(), fig\n",
        "\n",
        "# Gradio Interface\n",
        "interface = gr.Interface(\n",
        "    fn=hierarchical_clustering,\n",
        "    inputs=[\n",
        "        gr.Number(value=3, label=\"Number of Clusters\", precision=0),\n",
        "        gr.Dropdown([\"ward\", \"complete\", \"average\", \"single\"], label=\"Linkage Method\"),\n",
        "        gr.Dropdown([\"euclidean\", \"cityblock\", \"cosine\", \"jaccard\"], label=\"Distance Metric\")\n",
        "    ],\n",
        "    outputs=[\n",
        "        gr.Dataframe(label=\"Clustered Data Preview\"),\n",
        "        gr.Plot(label=\"Dendrogram & Clusters\")\n",
        "    ],\n",
        "    title=\"Real-Time Hierarchical Clustering with Inbuilt Dataset\",\n",
        "    description=\"Run hierarchical clustering on the Iris dataset. Choose the number of clusters, \"\n",
        "                \"linkage method, and distance metric. View dendrogram and cluster visualization in real time!\"\n",
        ")\n",
        "\n",
        "# Launch the Gradio app\n",
        "interface.launch()\n"
      ]
    },
    {
      "cell_type": "code",
      "source": [],
      "metadata": {
        "id": "onbsXqyj8arz"
      },
      "execution_count": null,
      "outputs": []
    },
    {
      "cell_type": "markdown",
      "source": [],
      "metadata": {
        "id": "8WXLGSdd8bTy"
      }
    },
    {
      "cell_type": "code",
      "source": [],
      "metadata": {
        "id": "_Lan3lNB8b2W"
      },
      "execution_count": null,
      "outputs": []
    }
  ]
}
