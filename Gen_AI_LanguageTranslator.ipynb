{
  "nbformat": 4,
  "nbformat_minor": 0,
  "metadata": {
    "colab": {
      "provenance": [],
      "authorship_tag": "ABX9TyPuurXyFBuwJFxZHhsWfuni",
      "include_colab_link": true
    },
    "kernelspec": {
      "name": "python3",
      "display_name": "Python 3"
    },
    "language_info": {
      "name": "python"
    }
  },
  "cells": [
    {
      "cell_type": "markdown",
      "metadata": {
        "id": "view-in-github",
        "colab_type": "text"
      },
      "source": [
        "<a href=\"https://colab.research.google.com/github/Sarathi666/Generative_AI/blob/main/Gen_AI_LanguageTranslator.ipynb\" target=\"_parent\"><img src=\"https://colab.research.google.com/assets/colab-badge.svg\" alt=\"Open In Colab\"/></a>"
      ]
    },
    {
      "cell_type": "code",
      "execution_count": 2,
      "metadata": {
        "colab": {
          "base_uri": "https://localhost:8080/",
          "height": 684
        },
        "id": "9D8WIQaMJHsN",
        "outputId": "a30baab5-fb5d-4434-aa53-270801a47c77"
      },
      "outputs": [
        {
          "output_type": "stream",
          "name": "stdout",
          "text": [
            "Running Gradio in a Colab notebook requires sharing enabled. Automatically setting `share=True` (you can turn this off by setting `share=False` in `launch()` explicitly).\n",
            "\n",
            "Colab notebook detected. This cell will run indefinitely so that you can see errors and logs. To turn off, set debug=False in launch().\n",
            "* Running on public URL: https://f7146e9462a2a30bd9.gradio.live\n",
            "\n",
            "This share link expires in 72 hours. For free permanent hosting and GPU upgrades, run `gradio deploy` from the terminal in the working directory to deploy to Hugging Face Spaces (https://huggingface.co/spaces)\n"
          ]
        },
        {
          "output_type": "display_data",
          "data": {
            "text/plain": [
              "<IPython.core.display.HTML object>"
            ],
            "text/html": [
              "<div><iframe src=\"https://f7146e9462a2a30bd9.gradio.live\" width=\"100%\" height=\"500\" allow=\"autoplay; camera; microphone; clipboard-read; clipboard-write;\" frameborder=\"0\" allowfullscreen></iframe></div>"
            ]
          },
          "metadata": {}
        },
        {
          "output_type": "stream",
          "name": "stdout",
          "text": [
            "Keyboard interruption in main thread... closing server.\n",
            "Killing tunnel 127.0.0.1:7860 <> https://f7146e9462a2a30bd9.gradio.live\n"
          ]
        },
        {
          "output_type": "execute_result",
          "data": {
            "text/plain": []
          },
          "metadata": {},
          "execution_count": 2
        }
      ],
      "source": [
        "# Step 1: Install dependencies\n",
        "!pip install transformers gradio --quiet\n",
        "\n",
        "# Step 2: Import libraries\n",
        "from transformers import pipeline\n",
        "import gradio as gr\n",
        "\n",
        "# Step 3: Language Pair Map from Helsinki-NLP (as many as supported)\n",
        "lang_model_map = {\n",
        "    \"English to French\": \"Helsinki-NLP/opus-mt-en-fr\",\n",
        "    \"English to German\": \"Helsinki-NLP/opus-mt-en-de\",\n",
        "    \"English to Spanish\": \"Helsinki-NLP/opus-mt-en-es\",\n",
        "    \"English to Italian\": \"Helsinki-NLP/opus-mt-en-it\",\n",
        "    \"English to Portuguese\": \"Helsinki-NLP/opus-mt-en-pt\",\n",
        "    \"English to Russian\": \"Helsinki-NLP/opus-mt-en-ru\",\n",
        "    \"English to Hindi\": \"Helsinki-NLP/opus-mt-en-hi\",\n",
        "    \"English to Chinese\": \"Helsinki-NLP/opus-mt-en-zh\",\n",
        "    \"English to Japanese\": \"Helsinki-NLP/opus-mt-en-ja\",\n",
        "    \"English to Korean\": \"Helsinki-NLP/opus-mt-en-ko\",\n",
        "    \"French to English\": \"Helsinki-NLP/opus-mt-fr-en\",\n",
        "    \"German to English\": \"Helsinki-NLP/opus-mt-de-en\",\n",
        "    \"Spanish to English\": \"Helsinki-NLP/opus-mt-es-en\",\n",
        "    \"Italian to English\": \"Helsinki-NLP/opus-mt-it-en\",\n",
        "    \"Portuguese to English\": \"Helsinki-NLP/opus-mt-pt-en\",\n",
        "    \"Russian to English\": \"Helsinki-NLP/opus-mt-ru-en\",\n",
        "    \"Hindi to English\": \"Helsinki-NLP/opus-mt-hi-en\",\n",
        "    \"Chinese to English\": \"Helsinki-NLP/opus-mt-zh-en\",\n",
        "    \"Japanese to English\": \"Helsinki-NLP/opus-mt-ja-en\",\n",
        "    \"Korean to English\": \"Helsinki-NLP/opus-mt-ko-en\",\n",
        "    \"French to Spanish\": \"Helsinki-NLP/opus-mt-fr-es\",\n",
        "    \"Spanish to French\": \"Helsinki-NLP/opus-mt-es-fr\",\n",
        "    \"Arabic to English\": \"Helsinki-NLP/opus-mt-ar-en\",\n",
        "    \"English to Arabic\": \"Helsinki-NLP/opus-mt-en-ar\",\n",
        "}\n",
        "\n",
        "# Step 4: Translation Function\n",
        "def translate(text, direction):\n",
        "    model_name = lang_model_map.get(direction)\n",
        "    if not model_name:\n",
        "        return \"Selected translation model not available.\"\n",
        "    translator = pipeline(\"translation\", model=model_name)\n",
        "    result = translator(text, max_length=512)[0]['translation_text']\n",
        "    return result\n",
        "\n",
        "# Step 5: Gradio App\n",
        "interface = gr.Interface(\n",
        "    fn=translate,\n",
        "    inputs=[\n",
        "        gr.Textbox(lines=4, label=\"Enter Text\"),\n",
        "        gr.Dropdown(choices=list(lang_model_map.keys()), label=\"Translation Direction\")\n",
        "    ],\n",
        "    outputs=gr.Textbox(label=\"Translated Output\"),\n",
        "    title=\"🌐 Universal AI Language Translator\",\n",
        "    description=\"Powered by Hugging Face + Helsinki-NLP models. Select any language direction to translate.\"\n",
        ")\n",
        "\n",
        "interface.launch(debug=True)\n"
      ]
    }
  ]
}