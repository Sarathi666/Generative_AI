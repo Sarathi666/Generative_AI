{
  "nbformat": 4,
  "nbformat_minor": 0,
  "metadata": {
    "colab": {
      "provenance": [],
      "authorship_tag": "ABX9TyPyPbC0CmTQgBK06WpXIXiA",
      "include_colab_link": true
    },
    "kernelspec": {
      "name": "python3",
      "display_name": "Python 3"
    },
    "language_info": {
      "name": "python"
    }
  },
  "cells": [
    {
      "cell_type": "markdown",
      "metadata": {
        "id": "view-in-github",
        "colab_type": "text"
      },
      "source": [
        "<a href=\"https://colab.research.google.com/github/Sarathi666/Generative_AI/blob/main/Text_to_Speech.ipynb\" target=\"_parent\"><img src=\"https://colab.research.google.com/assets/colab-badge.svg\" alt=\"Open In Colab\"/></a>"
      ]
    },
    {
      "cell_type": "code",
      "execution_count": 4,
      "metadata": {
        "colab": {
          "base_uri": "https://localhost:8080/",
          "height": 684
        },
        "id": "zq4cXGlKHztQ",
        "outputId": "71b58c46-bda9-41b1-8312-cb2337626f6a"
      },
      "outputs": [
        {
          "output_type": "stream",
          "name": "stdout",
          "text": [
            "Running Gradio in a Colab notebook requires sharing enabled. Automatically setting `share=True` (you can turn this off by setting `share=False` in `launch()` explicitly).\n",
            "\n",
            "Colab notebook detected. This cell will run indefinitely so that you can see errors and logs. To turn off, set debug=False in launch().\n",
            "* Running on public URL: https://47b26b55389ed409f5.gradio.live\n",
            "\n",
            "This share link expires in 72 hours. For free permanent hosting and GPU upgrades, run `gradio deploy` from the terminal in the working directory to deploy to Hugging Face Spaces (https://huggingface.co/spaces)\n"
          ]
        },
        {
          "output_type": "display_data",
          "data": {
            "text/plain": [
              "<IPython.core.display.HTML object>"
            ],
            "text/html": [
              "<div><iframe src=\"https://47b26b55389ed409f5.gradio.live\" width=\"100%\" height=\"500\" allow=\"autoplay; camera; microphone; clipboard-read; clipboard-write;\" frameborder=\"0\" allowfullscreen></iframe></div>"
            ]
          },
          "metadata": {}
        },
        {
          "output_type": "stream",
          "name": "stdout",
          "text": [
            "Keyboard interruption in main thread... closing server.\n",
            "Killing tunnel 127.0.0.1:7860 <> https://47b26b55389ed409f5.gradio.live\n"
          ]
        },
        {
          "output_type": "execute_result",
          "data": {
            "text/plain": []
          },
          "metadata": {},
          "execution_count": 4
        }
      ],
      "source": [
        "# Step 1: Install dependencies\n",
        "!pip install gTTS gradio --quiet\n",
        "\n",
        "# Step 2: Import required libraries\n",
        "from gtts import gTTS\n",
        "import gradio as gr\n",
        "\n",
        "# Step 3: Define the function to convert text to speech\n",
        "def speak(text):\n",
        "    # Convert the text to speech using Google TTS\n",
        "    tts = gTTS(text)\n",
        "\n",
        "    # Save the generated speech as an audio file\n",
        "    tts.save(\"output.mp3\")\n",
        "\n",
        "    # Return the file path of the audio file\n",
        "    return \"output.mp3\"\n",
        "\n",
        "# Step 4: Set up Gradio interface\n",
        "gr.Interface(\n",
        "    fn=speak,                              # The function to call\n",
        "    inputs=gr.Textbox(label=\"Enter text\"),  # User input: text box\n",
        "    outputs=gr.Audio(type=\"filepath\"),     # Output: audio file (MP3)\n",
        "    title=\"🗣️ Text to Speech (Google TTS)\",  # Title of the interface\n",
        "    description=\"Convert any text to speech using Google Text-to-Speech.\"  # Description\n",
        ").launch(debug=True)\n"
      ]
    }
  ]
}