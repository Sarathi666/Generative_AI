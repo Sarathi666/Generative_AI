{
  "cells": [
    {
      "cell_type": "markdown",
      "metadata": {
        "id": "view-in-github",
        "colab_type": "text"
      },
      "source": [
        "<a href=\"https://colab.research.google.com/github/Sarathi666/Generative_AI/blob/main/LangChan/Translator_AI.ipynb\" target=\"_parent\"><img src=\"https://colab.research.google.com/assets/colab-badge.svg\" alt=\"Open In Colab\"/></a>"
      ]
    },
    {
      "cell_type": "code",
      "execution_count": 12,
      "metadata": {
        "colab": {
          "base_uri": "https://localhost:8080/"
        },
        "id": "JsAnuvB6usgJ",
        "outputId": "f48a7959-9deb-4656-9e69-e32f51c47f27"
      },
      "outputs": [
        {
          "name": "stdout",
          "output_type": "stream",
          "text": [
            "Enter source language code (e.g. 'en'): en\n",
            "Enter target language code (e.g. 'es'): fr\n",
            "Enter text to translate: hi\n"
          ]
        },
        {
          "output_type": "stream",
          "name": "stderr",
          "text": [
            "Device set to use cpu\n",
            "<ipython-input-12-4fb8a4676852>:33: LangChainDeprecationWarning: The class `LLMChain` was deprecated in LangChain 0.1.17 and will be removed in 1.0. Use :meth:`~RunnableSequence, e.g., `prompt | llm`` instead.\n",
            "  chain = LLMChain(llm=llm, prompt=prompt)\n",
            "<ipython-input-12-4fb8a4676852>:43: LangChainDeprecationWarning: The method `Chain.run` was deprecated in langchain 0.1.0 and will be removed in 1.0. Use :meth:`~invoke` instead.\n",
            "  result = translation_chain.run({\"input_text\": text})\n"
          ]
        },
        {
          "output_type": "stream",
          "name": "stdout",
          "text": [
            "\n",
            "🔁 Translated [en ➝ fr]:\n",
            "Traduire ce texte: bonjour\n"
          ]
        }
      ],
      "source": [
        "# ✅ STEP 1: Install necessary packages\n",
        "!pip install -q langchain transformers sentencepiece\n",
        "\n",
        "# ✅ STEP 2: Import modules\n",
        "from langchain.llms import HuggingFacePipeline\n",
        "from transformers import MarianTokenizer, MarianMTModel, pipeline\n",
        "from langchain.prompts import PromptTemplate\n",
        "from langchain.chains import LLMChain\n",
        "\n",
        "# ✅ STEP 3: Define a function to load HuggingFace MarianMT for specific language pairs\n",
        "def get_translation_model(src_lang=\"en\", tgt_lang=\"fr\"):\n",
        "    model_name = f\"Helsinki-NLP/opus-mt-{src_lang}-{tgt_lang}\"\n",
        "    tokenizer = MarianTokenizer.from_pretrained(model_name)\n",
        "    model = MarianMTModel.from_pretrained(model_name)\n",
        "    translation_pipeline = pipeline(\"translation\", model=model, tokenizer=tokenizer)\n",
        "    return translation_pipeline\n",
        "\n",
        "# ✅ STEP 4: Wrap into LangChain's LLM interface\n",
        "class TranslationLLM(HuggingFacePipeline):\n",
        "    def __init__(self, pipeline_obj):\n",
        "        super().__init__(pipeline=pipeline_obj)\n",
        "\n",
        "# ✅ STEP 5: Create translation chain using a LangChain prompt\n",
        "def create_translation_chain(src=\"en\", tgt=\"fr\"):\n",
        "    translation_pipe = get_translation_model(src, tgt)\n",
        "    llm = TranslationLLM(translation_pipe)\n",
        "\n",
        "    prompt = PromptTemplate(\n",
        "        input_variables=[\"input_text\"],\n",
        "        template=\"Translate this text:\\n{input_text}\"\n",
        "    )\n",
        "\n",
        "    chain = LLMChain(llm=llm, prompt=prompt)\n",
        "    return chain\n",
        "\n",
        "# ✅ STEP 6: Translate using LangChain\n",
        "src = input(\"Enter source language code (e.g. 'en'): \").strip()\n",
        "tgt = input(\"Enter target language code (e.g. 'es'): \").strip()\n",
        "text = input(\"Enter text to translate: \")\n",
        "\n",
        "try:\n",
        "    translation_chain = create_translation_chain(src, tgt)\n",
        "    result = translation_chain.run({\"input_text\": text})\n",
        "    print(f\"\\n🔁 Translated [{src} ➝ {tgt}]:\\n{result}\")\n",
        "except Exception as e:\n",
        "    print(\"⚠️ Error during translation:\", e)\n"
      ]
    }
  ],
  "metadata": {
    "colab": {
      "provenance": [],
      "authorship_tag": "ABX9TyM2zIOYV3cqQ1rPrFbBByXL",
      "include_colab_link": true
    },
    "kernelspec": {
      "display_name": "Python 3",
      "name": "python3"
    },
    "language_info": {
      "name": "python"
    }
  },
  "nbformat": 4,
  "nbformat_minor": 0
}